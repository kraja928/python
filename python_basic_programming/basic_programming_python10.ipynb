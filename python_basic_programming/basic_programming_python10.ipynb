{
 "cells": [
  {
   "cell_type": "raw",
   "metadata": {},
   "source": [
    "1.\tWrite a Python program to find sum of elements in list?"
   ]
  },
  {
   "cell_type": "code",
   "execution_count": 1,
   "metadata": {},
   "outputs": [
    {
     "data": {
      "text/plain": [
       "11"
      ]
     },
     "execution_count": 1,
     "metadata": {},
     "output_type": "execute_result"
    }
   ],
   "source": [
    "def sum_list(array):\n",
    "    res = 0\n",
    "    for  i in array:\n",
    "        res+=i\n",
    "    return res\n",
    "sum_list([1,2,3,5])"
   ]
  },
  {
   "cell_type": "raw",
   "metadata": {},
   "source": [
    "2.\tWrite a Python program to  Multiply all numbers in the list?"
   ]
  },
  {
   "cell_type": "code",
   "execution_count": 2,
   "metadata": {},
   "outputs": [
    {
     "data": {
      "text/plain": [
       "30"
      ]
     },
     "execution_count": 2,
     "metadata": {},
     "output_type": "execute_result"
    }
   ],
   "source": [
    "def mul_list(array):\n",
    "    res = 1\n",
    "    for  i in array:\n",
    "        res*=i\n",
    "    return res\n",
    "mul_list([1,2,3,5])"
   ]
  },
  {
   "cell_type": "raw",
   "metadata": {},
   "source": [
    "3.\tWrite a Python program to find smallest number in a list?"
   ]
  },
  {
   "cell_type": "code",
   "execution_count": 3,
   "metadata": {},
   "outputs": [
    {
     "data": {
      "text/plain": [
       "4"
      ]
     },
     "execution_count": 3,
     "metadata": {},
     "output_type": "execute_result"
    }
   ],
   "source": [
    "def smallest_num(array):\n",
    "    m = array[0]\n",
    "    for i in array:\n",
    "        if i < m:\n",
    "            m = i\n",
    "    return m\n",
    "\n",
    "smallest_num([9,6,5,4])"
   ]
  },
  {
   "cell_type": "raw",
   "metadata": {},
   "source": [
    "4.\tWrite a Python program to find largest number in a list?"
   ]
  },
  {
   "cell_type": "code",
   "execution_count": 4,
   "metadata": {},
   "outputs": [
    {
     "data": {
      "text/plain": [
       "10"
      ]
     },
     "execution_count": 4,
     "metadata": {},
     "output_type": "execute_result"
    }
   ],
   "source": [
    "def largest_num(array):\n",
    "    m = array[0]\n",
    "    for i in array:\n",
    "        if i > m:\n",
    "            m = i\n",
    "    return m\n",
    "\n",
    "largest_num([9,6,5,4,10])"
   ]
  },
  {
   "cell_type": "raw",
   "metadata": {},
   "source": [
    "5.\tWrite a Python program to find second largest number in a list?"
   ]
  },
  {
   "cell_type": "code",
   "execution_count": 5,
   "metadata": {},
   "outputs": [
    {
     "data": {
      "text/plain": [
       "78"
      ]
     },
     "execution_count": 5,
     "metadata": {},
     "output_type": "execute_result"
    }
   ],
   "source": [
    "def second_large_num(array):\n",
    "    if array[0]>array[1]:\n",
    "        m1=array[0]\n",
    "        m2=array[1]\n",
    "    else:\n",
    "        m2=array[0]\n",
    "        m1=array[1]\n",
    "    for i in range(2,len(array)):\n",
    "        if array[i]>m1:\n",
    "            m2=m1\n",
    "            m1=array[i]\n",
    "            #print(\"m1=\",m1)\n",
    "            #print(\"m2=\",m2)\n",
    "        elif array[i]>m2 and m1!=array[i]:\n",
    "            m2=array[i]  \n",
    "            #print(\"m1=\",m1)\n",
    "            #print(\"m2=\",m2)\n",
    "            \n",
    "    return m2\n",
    "\n",
    "second_large_num([99,11,15,14,10,5,78])"
   ]
  },
  {
   "cell_type": "raw",
   "metadata": {},
   "source": [
    "6.\tWrite a Python program to find N largest elements from a list?\n"
   ]
  },
  {
   "cell_type": "code",
   "execution_count": 6,
   "metadata": {},
   "outputs": [
    {
     "data": {
      "text/plain": [
       "[99, 78, 15, 14]"
      ]
     },
     "execution_count": 6,
     "metadata": {},
     "output_type": "execute_result"
    }
   ],
   "source": [
    "def n_large(array,n):\n",
    "    array.sort(reverse=True)\n",
    "    return array[0:n]\n",
    "n_large([99,11,15,14,10,5,78],4)"
   ]
  },
  {
   "cell_type": "raw",
   "metadata": {},
   "source": [
    "7.\tWrite a Python program to print even numbers in a list?"
   ]
  },
  {
   "cell_type": "code",
   "execution_count": 7,
   "metadata": {},
   "outputs": [
    {
     "name": "stdout",
     "output_type": "stream",
     "text": [
      "6,14,10,8,16,"
     ]
    }
   ],
   "source": [
    "def print_even(array):\n",
    "    res = [i for i in array if i%2==0]\n",
    "    for i in res:\n",
    "        print(i, end=',')\n",
    "\n",
    "print_even([6,23,14,10,8,16])\n",
    "        "
   ]
  },
  {
   "cell_type": "raw",
   "metadata": {},
   "source": [
    "8.\tWrite a Python program to print odd numbers in a List?"
   ]
  },
  {
   "cell_type": "code",
   "execution_count": 8,
   "metadata": {},
   "outputs": [
    {
     "name": "stdout",
     "output_type": "stream",
     "text": [
      "23,"
     ]
    }
   ],
   "source": [
    "def print_odd(array):\n",
    "    res = [i for i in array if i%2!=0]\n",
    "    for i in res:\n",
    "        print(i, end=',')\n",
    "\n",
    "print_odd([6,23,14,10,8,16])"
   ]
  },
  {
   "cell_type": "raw",
   "metadata": {},
   "source": [
    "9.\tWrite a Python program to Remove empty List from List?"
   ]
  },
  {
   "cell_type": "code",
   "execution_count": 9,
   "metadata": {},
   "outputs": [
    {
     "data": {
      "text/plain": [
       "[[6, 2, 3, 4], ['a', 'b']]"
      ]
     },
     "execution_count": 9,
     "metadata": {},
     "output_type": "execute_result"
    }
   ],
   "source": [
    "def remove_empty(list1):\n",
    "    for i in list1:\n",
    "        if i == []:\n",
    "            list1.remove(i)\n",
    "    return list1\n",
    "remove_empty([[6,2,3,4],[],['a','b']])"
   ]
  },
  {
   "cell_type": "raw",
   "metadata": {},
   "source": [
    "10.\tWrite a Python program to Cloning or Copying a list?"
   ]
  },
  {
   "cell_type": "code",
   "execution_count": 10,
   "metadata": {},
   "outputs": [
    {
     "data": {
      "text/plain": [
       "[12, 3, 2, 1]"
      ]
     },
     "execution_count": 10,
     "metadata": {},
     "output_type": "execute_result"
    }
   ],
   "source": [
    "def cloning(list1):\n",
    "    list2 = list1\n",
    "    return list2\n",
    "cloning([12,3,2,1])"
   ]
  },
  {
   "cell_type": "raw",
   "metadata": {},
   "source": [
    "11.\tWrite a Python program to Count occurrences of an element in a list?"
   ]
  },
  {
   "cell_type": "code",
   "execution_count": 11,
   "metadata": {},
   "outputs": [
    {
     "data": {
      "text/plain": [
       "2"
      ]
     },
     "execution_count": 11,
     "metadata": {},
     "output_type": "execute_result"
    }
   ],
   "source": [
    "list1=[1,2,4,5,3,2,54]\n",
    "a =2\n",
    "list1.count(a)"
   ]
  },
  {
   "cell_type": "code",
   "execution_count": 12,
   "metadata": {},
   "outputs": [],
   "source": [
    "def count_occurence(list1,num):\n",
    "    count =0\n",
    "    for i in list1:\n",
    "        if i == a:\n",
    "            count+=1\n",
    "    return count"
   ]
  },
  {
   "cell_type": "code",
   "execution_count": 13,
   "metadata": {},
   "outputs": [
    {
     "data": {
      "text/plain": [
       "2"
      ]
     },
     "execution_count": 13,
     "metadata": {},
     "output_type": "execute_result"
    }
   ],
   "source": [
    "count_occurence(list1,2)"
   ]
  },
  {
   "cell_type": "code",
   "execution_count": null,
   "metadata": {},
   "outputs": [],
   "source": []
  }
 ],
 "metadata": {
  "kernelspec": {
   "display_name": "Python 3",
   "language": "python",
   "name": "python3"
  },
  "language_info": {
   "codemirror_mode": {
    "name": "ipython",
    "version": 3
   },
   "file_extension": ".py",
   "mimetype": "text/x-python",
   "name": "python",
   "nbconvert_exporter": "python",
   "pygments_lexer": "ipython3",
   "version": "3.8.5"
  }
 },
 "nbformat": 4,
 "nbformat_minor": 4
}
