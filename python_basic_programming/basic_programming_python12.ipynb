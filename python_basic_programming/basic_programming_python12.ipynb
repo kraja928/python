{
 "cells": [
  {
   "cell_type": "raw",
   "metadata": {},
   "source": [
    "1.\tWrite a Python program to Extract Unique values dictionary values?"
   ]
  },
  {
   "cell_type": "code",
   "execution_count": 1,
   "metadata": {},
   "outputs": [
    {
     "data": {
      "text/plain": [
       "[1, 2, 3]"
      ]
     },
     "execution_count": 1,
     "metadata": {},
     "output_type": "execute_result"
    }
   ],
   "source": [
    "def unique_value(dict1):\n",
    "    list1=[]\n",
    "    for key, value in dict1.items():\n",
    "        if value not in list1:\n",
    "            list1.append(value)\n",
    "    return list1\n",
    "\n",
    "unique_value({'a':1,'b':2,'c':3,'d':2})\n",
    "        "
   ]
  },
  {
   "cell_type": "raw",
   "metadata": {},
   "source": [
    "2.\tWrite a Python program to find the sum of all items in a dictionary?"
   ]
  },
  {
   "cell_type": "code",
   "execution_count": 2,
   "metadata": {},
   "outputs": [
    {
     "data": {
      "text/plain": [
       "24"
      ]
     },
     "execution_count": 2,
     "metadata": {},
     "output_type": "execute_result"
    }
   ],
   "source": [
    "def sum_dict(dict1):\n",
    "    res=0\n",
    "    for key, value in dict1.items():\n",
    "        res+= key+value\n",
    "    return res\n",
    "sum_dict(({3:1,0:2,5:3,8:2}))"
   ]
  },
  {
   "cell_type": "raw",
   "metadata": {},
   "source": [
    "3.\tWrite a Python program to Merging two Dictionaries?\n"
   ]
  },
  {
   "cell_type": "code",
   "execution_count": 3,
   "metadata": {},
   "outputs": [
    {
     "data": {
      "text/plain": [
       "{0: 1, 1: 2, 2: 3, 3: 4, 4: 5, 'a': 'b', 'c': 'd'}"
      ]
     },
     "execution_count": 3,
     "metadata": {},
     "output_type": "execute_result"
    }
   ],
   "source": [
    "def merge_dict(dict1, dict2):\n",
    "    for key in dict2:\n",
    "        dict1[key]=dict2[key]\n",
    "    return dict1\n",
    "dict1={0:1,1:2,2:3,3:4,4:5}\n",
    "dict2={'a':'b','c':'d'}\n",
    "merge_dict(dict1,dict2)"
   ]
  },
  {
   "cell_type": "raw",
   "metadata": {},
   "source": [
    "4.\tWrite a Python program to convert key-values list to flat dictionary?"
   ]
  },
  {
   "cell_type": "code",
   "execution_count": 4,
   "metadata": {},
   "outputs": [
    {
     "data": {
      "text/plain": [
       "{0: 5, 'a': 'b', 'b': 9, 'd': 8}"
      ]
     },
     "execution_count": 4,
     "metadata": {},
     "output_type": "execute_result"
    }
   ],
   "source": [
    "list1 = [(0,5),('a','b'),('b',9),('d',8)]\n",
    "\n",
    "def con_keyvalue(list1):\n",
    "    dict1={}\n",
    "    for i,j in list1:\n",
    "        dict1[i]=j\n",
    "    return dict1\n",
    "\n",
    "con_keyvalue(list1)"
   ]
  },
  {
   "cell_type": "raw",
   "metadata": {},
   "source": [
    "5.\tWrite a Python program to insertion at the beginning in OrderedDict?"
   ]
  },
  {
   "cell_type": "code",
   "execution_count": 5,
   "metadata": {},
   "outputs": [
    {
     "name": "stdout",
     "output_type": "stream",
     "text": [
      "OrderedDict([(0, 5), ('a', 'b'), ('b', 9), ('d', 8), ('s', 'n')])\n",
      "OrderedDict([('s', 'n'), (0, 5), ('a', 'b'), ('b', 9), ('d', 8)])\n"
     ]
    }
   ],
   "source": [
    "from collections import OrderedDict\n",
    "dict1 = OrderedDict({0: 5, 'a': 'b', 'b': 9, 'd': 8})\n",
    "dict1['s']='n'\n",
    "print(dict1)\n",
    "dict1.move_to_end('s',False)\n",
    "print(dict1)"
   ]
  },
  {
   "cell_type": "raw",
   "metadata": {},
   "source": [
    "6.\tWrite a Python program to check order of character in string using OrderedDict()?"
   ]
  },
  {
   "cell_type": "code",
   "execution_count": 6,
   "metadata": {},
   "outputs": [
    {
     "name": "stdout",
     "output_type": "stream",
     "text": [
      "{5: 1, 0: 2, 9: 4, 2: 5}\n",
      "OrderedDict([(0, 2), (2, 5), (5, 1), (9, 4)])\n"
     ]
    }
   ],
   "source": [
    "dict1 = {5:1, 0: 2, 9:4, 2: 5}\n",
    "print(dict1)\n",
    "res = OrderedDict(sorted(dict1.items()))\n",
    "print(res)"
   ]
  },
  {
   "cell_type": "raw",
   "metadata": {},
   "source": [
    "7.\tWrite a Python program to sort Python Dictionaries by Key or Value?"
   ]
  },
  {
   "cell_type": "code",
   "execution_count": 7,
   "metadata": {},
   "outputs": [
    {
     "data": {
      "text/plain": [
       "[(0, 2), (2, 5), (5, 1), (9, 4)]"
      ]
     },
     "execution_count": 7,
     "metadata": {},
     "output_type": "execute_result"
    }
   ],
   "source": [
    "def sort_dict(dict1):\n",
    "    res = sorted(dict1.items())\n",
    "    return res\n",
    "dict1 = {5:1, 0: 2, 9:4, 2: 5}\n",
    "sort_dict(dict1)   "
   ]
  },
  {
   "cell_type": "code",
   "execution_count": null,
   "metadata": {},
   "outputs": [],
   "source": []
  }
 ],
 "metadata": {
  "kernelspec": {
   "display_name": "Python 3",
   "language": "python",
   "name": "python3"
  },
  "language_info": {
   "codemirror_mode": {
    "name": "ipython",
    "version": 3
   },
   "file_extension": ".py",
   "mimetype": "text/x-python",
   "name": "python",
   "nbconvert_exporter": "python",
   "pygments_lexer": "ipython3",
   "version": "3.8.5"
  }
 },
 "nbformat": 4,
 "nbformat_minor": 4
}
