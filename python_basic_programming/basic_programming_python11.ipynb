{
 "cells": [
  {
   "cell_type": "raw",
   "metadata": {},
   "source": [
    "1.\tWrite a Python program to find words which are greater than given length k?"
   ]
  },
  {
   "cell_type": "code",
   "execution_count": 1,
   "metadata": {},
   "outputs": [
    {
     "data": {
      "text/plain": [
       "['Hello', 'world!', 'welcome', 'python']"
      ]
     },
     "execution_count": 1,
     "metadata": {},
     "output_type": "execute_result"
    }
   ],
   "source": [
    "def len_words(sentence,l):\n",
    "    words = sentence.split()\n",
    "    res = [i for i in words if len(i)>l]\n",
    "    return res\n",
    "\n",
    "len_words(\"Hello world! welcome to python\",4)"
   ]
  },
  {
   "cell_type": "raw",
   "metadata": {},
   "source": [
    "2.\tWrite a Python program for removing i-th character from a string?"
   ]
  },
  {
   "cell_type": "code",
   "execution_count": 2,
   "metadata": {},
   "outputs": [
    {
     "data": {
      "text/plain": [
       "'Hell world! welcome to python'"
      ]
     },
     "execution_count": 2,
     "metadata": {},
     "output_type": "execute_result"
    }
   ],
   "source": [
    "def remove_i(sentence,i):\n",
    "    res = sentence[:i]+sentence[i+1:]\n",
    "    return res\n",
    "remove_i(\"Hello world! welcome to python\",4)"
   ]
  },
  {
   "cell_type": "raw",
   "metadata": {},
   "source": [
    "3.\tWrite a Python program to split and join a string?"
   ]
  },
  {
   "cell_type": "code",
   "execution_count": 3,
   "metadata": {},
   "outputs": [
    {
     "name": "stdout",
     "output_type": "stream",
     "text": [
      "['Hello', 'world!', 'welcome', 'to', 'python']\n",
      "Hello world! welcome to python\n"
     ]
    }
   ],
   "source": [
    "def split_join(string):\n",
    "    split = string.split()\n",
    "    print(split)\n",
    "    join = ' '.join(split)\n",
    "    print(join)\n",
    "split_join(\"Hello world! welcome to python\")"
   ]
  },
  {
   "cell_type": "raw",
   "metadata": {},
   "source": [
    "4.\tWrite a Python to check if a given string is binary string or not?"
   ]
  },
  {
   "cell_type": "code",
   "execution_count": 4,
   "metadata": {},
   "outputs": [
    {
     "name": "stdout",
     "output_type": "stream",
     "text": [
      "True\n",
      "False\n"
     ]
    }
   ],
   "source": [
    "def is_binary(string):\n",
    "    binary={'0','1'}\n",
    "    for i in string:\n",
    "        if i not in binary:\n",
    "            return False\n",
    "    return True\n",
    "print(is_binary(\"10101\"))\n",
    "print(is_binary(\"Hello\"))       "
   ]
  },
  {
   "cell_type": "raw",
   "metadata": {},
   "source": [
    "5.\tWrite a Python program to find uncommon words from two Strings?"
   ]
  },
  {
   "cell_type": "code",
   "execution_count": 5,
   "metadata": {},
   "outputs": [
    {
     "data": {
      "text/plain": [
       "['Hello', 'welcome', 'to', 'python']"
      ]
     },
     "execution_count": 5,
     "metadata": {},
     "output_type": "execute_result"
    }
   ],
   "source": [
    "def uncommon(str1,str2):\n",
    "    list1=str1.split()\n",
    "    list2=str2.split()\n",
    "    res = []\n",
    "    for i in list1:\n",
    "        if i not in list2:\n",
    "            res.append(i)\n",
    "    for j in list2:\n",
    "        if j not in list1:\n",
    "            res.append(j)\n",
    "    return res\n",
    "\n",
    "uncommon(\"Hello world!\",\"welcome to python world!\")"
   ]
  },
  {
   "cell_type": "raw",
   "metadata": {},
   "source": [
    "6.\tWrite a Python to find all duplicate characters in string?"
   ]
  },
  {
   "cell_type": "code",
   "execution_count": 6,
   "metadata": {},
   "outputs": [
    {
     "data": {
      "text/plain": [
       "{'l', 'o'}"
      ]
     },
     "execution_count": 6,
     "metadata": {},
     "output_type": "execute_result"
    }
   ],
   "source": [
    "def duplicates(string):\n",
    "    res =[]\n",
    "    for i in string:\n",
    "        if string.count(i)>1:\n",
    "            res.append(i)\n",
    "    return set(res)\n",
    "\n",
    "duplicates(\"hello world!\")\n"
   ]
  },
  {
   "cell_type": "raw",
   "metadata": {},
   "source": [
    "7.\tWrite a Python Program to check if a string contains any special character?"
   ]
  },
  {
   "cell_type": "code",
   "execution_count": 7,
   "metadata": {},
   "outputs": [
    {
     "data": {
      "text/plain": [
       "True"
      ]
     },
     "execution_count": 7,
     "metadata": {},
     "output_type": "execute_result"
    }
   ],
   "source": [
    "def is_special(string):\n",
    "    count=0\n",
    "    for i in string:\n",
    "        if (ord(i)>=47 and ord(i)<=57) or (ord(i)>=65 and ord(i)<=122) or i==' ':\n",
    "            continue\n",
    "        else:\n",
    "            count+=1\n",
    "    if count>0:\n",
    "        return True\n",
    "    else: \n",
    "        return False\n",
    "\n",
    "is_special(\"hello world!\")"
   ]
  },
  {
   "cell_type": "code",
   "execution_count": null,
   "metadata": {},
   "outputs": [],
   "source": []
  }
 ],
 "metadata": {
  "kernelspec": {
   "display_name": "Python 3",
   "language": "python",
   "name": "python3"
  },
  "language_info": {
   "codemirror_mode": {
    "name": "ipython",
    "version": 3
   },
   "file_extension": ".py",
   "mimetype": "text/x-python",
   "name": "python",
   "nbconvert_exporter": "python",
   "pygments_lexer": "ipython3",
   "version": "3.8.5"
  }
 },
 "nbformat": 4,
 "nbformat_minor": 4
}
