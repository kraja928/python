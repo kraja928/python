{
 "cells": [
  {
   "cell_type": "markdown",
   "metadata": {},
   "source": [
    "1. Why are functions advantageous to have in your programs?\n",
    "\n",
    "Functions are usually written for the code reusability for the creator and as well as to the community,some of the complex code can't be understood by everyone but can be used for various applications and for such scenarios the functions can be used just by passing the arguments to get the expected result."
   ]
  },
  {
   "cell_type": "markdown",
   "metadata": {},
   "source": [
    "2. When does the code in a function run: when it's specified or when it's called?\n",
    "    \n",
    "Functions will only get implemented once you call it. Functions will not be implemented when they are defined/specified."
   ]
  },
  {
   "cell_type": "code",
   "execution_count": 2,
   "metadata": {},
   "outputs": [],
   "source": [
    "#3. What statement creates a function?\n",
    "# function can be created by using the word def <function_name>(parameters):\n",
    "def test():\n",
    "    return 'Hello world'\n"
   ]
  },
  {
   "cell_type": "markdown",
   "metadata": {},
   "source": [
    "4. What is the difference between a function and a function call?\n",
    "\n",
    "Function is a set/block of sequence of code which is used to implement a task, however this is known as defining a function.\n",
    "The process of calling a defined function in order to use the code available in the function is known as function call."
   ]
  },
  {
   "cell_type": "markdown",
   "metadata": {},
   "source": [
    "5. How many global scopes are there in a Python program? How many local scopes?\n",
    "\n",
    "There is only one global scope for a python program per execution, usually this scope lasts until the program gets terminated.\n",
    "The local scope or function scope are the function calls in python function, so every time a function is called local scope is created. Hence you can have as many number of local scopes for python function as of their function calls."
   ]
  },
  {
   "cell_type": "markdown",
   "metadata": {},
   "source": [
    "6. What happens to variables in a local scope when the function call returns?\n",
    "\n",
    "The scope of local variables are limited to the span of the function execustion, as soon as the function execution gets completed, the local variables no longer have the previous values. However if the function is called again the local variables get the values again."
   ]
  },
  {
   "cell_type": "markdown",
   "metadata": {},
   "source": [
    "7. What is the concept of a return value? Is it possible to have a return value in an expression?\n",
    "\n",
    "The concept of return value is to give the result back to the function calls, whenever the function is called by the user.\n",
    "Yes it is possible to return the value in an expression."
   ]
  },
  {
   "cell_type": "markdown",
   "metadata": {},
   "source": [
    "8. If a function does not have a return statement, what is the return value of a call to that function?\n",
    "\n",
    "If a function doesn't have a return statement then python will return a default value for the function and that default value is None."
   ]
  },
  {
   "cell_type": "markdown",
   "metadata": {},
   "source": [
    "9. How do you make a function variable refer to the global variable?\n",
    "\n",
    "The function variable can be made a global variable in order to make it available for everyone, everywhere in the code.\n",
    "This can be done by using the keyword global"
   ]
  },
  {
   "cell_type": "markdown",
   "metadata": {},
   "source": [
    "10. What is the data type of None?\n",
    "\n",
    "The datatype of None is NoneType, this will be returned when you use print option in the function instead of return. "
   ]
  },
  {
   "cell_type": "markdown",
   "metadata": {},
   "source": [
    "11. What does the sentence import areallyourpetsnamederic do?\n",
    "\n",
    "import is a keyword which is used to get the module,file for that specific instance in order to use the functions available in that particular library. In the above question, we will get areallyourpetsnamederic imported for execution."
   ]
  },
  {
   "cell_type": "markdown",
   "metadata": {},
   "source": [
    "12. If you had a bacon() feature in a spam module, what would you call it after importing spam?\n",
    "\n",
    "spam.bacon()"
   ]
  },
  {
   "cell_type": "markdown",
   "metadata": {},
   "source": [
    "13. What can you do to save a programme from crashing if it encounters an error?\n",
    "\n",
    "There are multiple techniques used to save a program from crashing, which is done with Error Handling\n",
    "1. try-except handling\n",
    "2.try-except-finally blocks in the code."
   ]
  },
  {
   "cell_type": "markdown",
   "metadata": {},
   "source": [
    "14. What is the purpose of the try clause? What is the purpose of the except clause?\n",
    "\n",
    "try-except block is a part of error handling which works hand in hand.\n",
    "try block is used to execute the block of code for the errors, if there is any error the control goes to except block.\n",
    "except block is used to handle the errors with many exceptions according the block of code. This is known as Exception Handling.\n",
    "This is one the best programming techniques that should be followed while writing a code.\n"
   ]
  },
  {
   "cell_type": "markdown",
   "metadata": {},
   "source": []
  }
 ],
 "metadata": {
  "kernelspec": {
   "display_name": "Python 3",
   "language": "python",
   "name": "python3"
  },
  "language_info": {
   "codemirror_mode": {
    "name": "ipython",
    "version": 3
   },
   "file_extension": ".py",
   "mimetype": "text/x-python",
   "name": "python",
   "nbconvert_exporter": "python",
   "pygments_lexer": "ipython3",
   "version": "3.8.5"
  }
 },
 "nbformat": 4,
 "nbformat_minor": 4
}
