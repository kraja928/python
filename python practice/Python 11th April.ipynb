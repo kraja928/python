{
 "cells": [
  {
   "cell_type": "raw",
   "metadata": {},
   "source": [
    "In oops, class and object are the main words we use.\n",
    "class - rough estimation of pysical things in the real world/ seperating the set of some entitites(e.g: car, laptop, animal)\n",
    "object- it is a secific value of the class (e.g: Audi Q7)\n",
    "a=7\n",
    "b=10\n",
    "c ='ajksfbjkasd'\n",
    "here a, b belongs to the class int\n",
    "c belongs to the class string\n",
    "\n",
    "a, b are objects/variables of int class\n",
    "c is the object/variable of string class\n",
    "\n"
   ]
  },
  {
   "cell_type": "code",
   "execution_count": 1,
   "metadata": {},
   "outputs": [],
   "source": [
    "class car:\n",
    "    pass"
   ]
  },
  {
   "cell_type": "code",
   "execution_count": 2,
   "metadata": {},
   "outputs": [],
   "source": [
    "audiq7 = car()"
   ]
  },
  {
   "cell_type": "code",
   "execution_count": 3,
   "metadata": {},
   "outputs": [
    {
     "data": {
      "text/plain": [
       "<__main__.car at 0x2b276afe610>"
      ]
     },
     "execution_count": 3,
     "metadata": {},
     "output_type": "execute_result"
    }
   ],
   "source": [
    "audiq7"
   ]
  },
  {
   "cell_type": "code",
   "execution_count": 4,
   "metadata": {},
   "outputs": [],
   "source": [
    "audiq7.milage = 20\n",
    "audiq7.year = 2020\n",
    "audiq7.make = 345\n",
    "audiq7.model = \"ahsdfv\""
   ]
  },
  {
   "cell_type": "code",
   "execution_count": 5,
   "metadata": {},
   "outputs": [
    {
     "data": {
      "text/plain": [
       "20"
      ]
     },
     "execution_count": 5,
     "metadata": {},
     "output_type": "execute_result"
    }
   ],
   "source": [
    "audiq7.milage"
   ]
  },
  {
   "cell_type": "code",
   "execution_count": 6,
   "metadata": {},
   "outputs": [
    {
     "ename": "NameError",
     "evalue": "name 'milage' is not defined",
     "output_type": "error",
     "traceback": [
      "\u001b[1;31m---------------------------------------------------------------------------\u001b[0m",
      "\u001b[1;31mNameError\u001b[0m                                 Traceback (most recent call last)",
      "\u001b[1;32m<ipython-input-6-e6d08bcec70d>\u001b[0m in \u001b[0;36m<module>\u001b[1;34m\u001b[0m\n\u001b[1;32m----> 1\u001b[1;33m \u001b[0mmilage\u001b[0m\u001b[1;33m\u001b[0m\u001b[1;33m\u001b[0m\u001b[0m\n\u001b[0m",
      "\u001b[1;31mNameError\u001b[0m: name 'milage' is not defined"
     ]
    }
   ],
   "source": [
    "#yiu will have to call complete variable\n",
    "milage"
   ]
  },
  {
   "cell_type": "code",
   "execution_count": 7,
   "metadata": {},
   "outputs": [],
   "source": [
    "nano =car()"
   ]
  },
  {
   "cell_type": "code",
   "execution_count": 9,
   "metadata": {},
   "outputs": [],
   "source": [
    "# you can create any number of instances for a object class\n",
    "nano.milage = 25\n",
    "nano.year =2020\n",
    "nano.make =234\n",
    "nano.model =\"ahdvh\"\n",
    "nano.enginno =3415645"
   ]
  },
  {
   "cell_type": "code",
   "execution_count": 10,
   "metadata": {},
   "outputs": [
    {
     "data": {
      "text/plain": [
       "3415645"
      ]
     },
     "execution_count": 10,
     "metadata": {},
     "output_type": "execute_result"
    }
   ],
   "source": [
    "nano.enginno"
   ]
  },
  {
   "cell_type": "code",
   "execution_count": 11,
   "metadata": {},
   "outputs": [],
   "source": [
    "class car:\n",
    "    def __init__(self,milage,year,make,model):\n",
    "        self.milage = milage\n",
    "        self.year =year\n",
    "        self.make =make\n",
    "        self.model=model"
   ]
  },
  {
   "cell_type": "code",
   "execution_count": 26,
   "metadata": {},
   "outputs": [],
   "source": [
    "nano1 =car(20,2020,3546985,\"dbvs\")\n",
    "audiq71 = car(15,2020,256,\"asigh\")\n",
    "nano2 =car(20,2020,3546985,\"dbvs\")\n",
    "audiq72 = car(15,2020,256,\"asigh\")\n",
    "nano3 =car(20,2020,3546985,\"dbvs\")\n",
    "audiq75 = car(15,2020,256,\"asigh\")\n",
    "nano6 =car(20,2020,3546985,\"dbvs\")\n",
    "audiq76 = car(15,2020,256,\"asigh\")\n",
    "nano31 =car(20,2020,3546985,\"dbvs\")\n",
    "audiq74 = car(15,2020,256,\"asigh\")\n",
    "nano123 =car(20,2020,3546985,\"dbvs\")\n",
    "audiq73 = car(15,2020,256,\"asigh\")"
   ]
  },
  {
   "cell_type": "code",
   "execution_count": 13,
   "metadata": {},
   "outputs": [
    {
     "data": {
      "text/plain": [
       "20"
      ]
     },
     "execution_count": 13,
     "metadata": {},
     "output_type": "execute_result"
    }
   ],
   "source": [
    "nano1.milage"
   ]
  },
  {
   "cell_type": "code",
   "execution_count": 14,
   "metadata": {},
   "outputs": [],
   "source": [
    "class car:\n",
    "    def __init__(a,milage,year,make,model):\n",
    "        a.milage = milage\n",
    "        a.year =year\n",
    "        a.make =make\n",
    "        a.model=model"
   ]
  },
  {
   "cell_type": "code",
   "execution_count": 16,
   "metadata": {},
   "outputs": [
    {
     "data": {
      "text/plain": [
       "'dbvs'"
      ]
     },
     "execution_count": 16,
     "metadata": {},
     "output_type": "execute_result"
    }
   ],
   "source": [
    "nano123.model"
   ]
  },
  {
   "cell_type": "raw",
   "metadata": {},
   "source": [
    "(a,milage,year,make,model) these are the arguments\n",
    "\n",
    "a is default pointer(any thing can be given as a pointer)\n",
    "milage,year,make,model are the arguments of the function which will be called automatically in __init__ function"
   ]
  },
  {
   "cell_type": "code",
   "execution_count": 17,
   "metadata": {},
   "outputs": [],
   "source": [
    "#here milage,year, make, model are the class variables attached to class\n",
    "class car:\n",
    "    def __init__(a,m,y,ma,mo):\n",
    "        a.milage = m\n",
    "        a.year =y\n",
    "        a.make =ma\n",
    "        a.model=mo"
   ]
  },
  {
   "cell_type": "code",
   "execution_count": 19,
   "metadata": {},
   "outputs": [
    {
     "data": {
      "text/plain": [
       "20"
      ]
     },
     "execution_count": 19,
     "metadata": {},
     "output_type": "execute_result"
    }
   ],
   "source": [
    "#class variables to be called here \n",
    "nano31.milage"
   ]
  },
  {
   "cell_type": "code",
   "execution_count": 28,
   "metadata": {},
   "outputs": [],
   "source": [
    "nano1 =car(20,2020,3546985,\"dbvs\")\n",
    "audiq71 = car(15,2020,256,\"asigh\")\n",
    "nano2 =car(20,2020,3546985,\"dbvs\")\n",
    "audiq72 = car(15,2020,256,\"asigh\")\n",
    "nano3 =car(20,2020,3546985,\"dbvs\")\n",
    "audiq75 = car(15,2020,256,\"asigh\")\n",
    "nano6 =car(20,2020,3546985,\"dbvs\")\n",
    "audiq76 = car(15,2020,256,\"asigh\")\n",
    "nano31 =car(20,2020,3546985,\"dbvs\")\n",
    "audiq74 = car(15,2020,256,\"asigh\")\n",
    "nano123 =car(20,2020,3546985,\"dbvs\")\n",
    "audiq73 = car(15,2020,256,\"asigh\")"
   ]
  },
  {
   "cell_type": "code",
   "execution_count": 23,
   "metadata": {},
   "outputs": [],
   "source": [
    "class car:\n",
    "    def __init__(a,m,y,ma,mo):\n",
    "        a.milage = m\n",
    "        a.year =y\n",
    "        a.make =ma\n",
    "        a.model=mo\n",
    "    #self is a local pointer that should be used to call the class variables\n",
    "    def age(self, current_year):\n",
    "        return current_year - self.year"
   ]
  },
  {
   "cell_type": "code",
   "execution_count": 27,
   "metadata": {},
   "outputs": [
    {
     "data": {
      "text/plain": [
       "1"
      ]
     },
     "execution_count": 27,
     "metadata": {},
     "output_type": "execute_result"
    }
   ],
   "source": [
    "nano31.age(2021)"
   ]
  },
  {
   "cell_type": "code",
   "execution_count": 33,
   "metadata": {},
   "outputs": [],
   "source": [
    "class car:\n",
    "    def __init__(a,m,y,ma,mo):\n",
    "        a.milage = m\n",
    "        a.year =y\n",
    "        a.make =ma\n",
    "        a.model=mo\n",
    "    #self is a local pointer that should be used to call the class variables\n",
    "    def age(self, current_year):\n",
    "        return current_year - self.year\n",
    "    \n",
    "    def milage1(self):\n",
    "        print('print a milage of car', self.milage)\n",
    "    #message will be given someone is trying to call an object\n",
    "    def __str__(c):\n",
    "        return 'this is my car class i have created'"
   ]
  },
  {
   "cell_type": "code",
   "execution_count": 34,
   "metadata": {},
   "outputs": [],
   "source": [
    "nano31 =car(20,2020,3546985,\"dbvs\")"
   ]
  },
  {
   "cell_type": "code",
   "execution_count": 35,
   "metadata": {},
   "outputs": [
    {
     "name": "stdout",
     "output_type": "stream",
     "text": [
      "print a milage of car 20\n"
     ]
    }
   ],
   "source": [
    "nano31.milage1()"
   ]
  },
  {
   "cell_type": "code",
   "execution_count": 36,
   "metadata": {},
   "outputs": [
    {
     "name": "stdout",
     "output_type": "stream",
     "text": [
      "this is my car class i have created\n"
     ]
    }
   ],
   "source": [
    "print(nano31)"
   ]
  },
  {
   "cell_type": "code",
   "execution_count": 37,
   "metadata": {},
   "outputs": [],
   "source": [
    "class student:\n",
    "    \n",
    "    def __init__(self,name,rollno,joiningdate,current_topic):\n",
    "        self.name =name\n",
    "        self.rollno= rollno\n",
    "        self.joiningdate= joiningdate\n",
    "        self.current_topic=current_topic\n",
    "        \n",
    "    def crt_topic(self):\n",
    "        print('current topic disussed in my class is', self.current_topic)\n",
    "        \n",
    "    def str_rollno(self):\n",
    "        if self.rollno == str:\n",
    "            print('do nothing')\n",
    "        else:\n",
    "            return str(self.rollno)\n",
    "    \n",
    "    def duration(self,current_date):\n",
    "        print('duration of student in my class is ', current_date-self.joiningdate)\n",
    "    \n",
    "    def __str__(self):\n",
    "        return 'this is student class where they can try to input there own data and they can try to fetch it'"
   ]
  },
  {
   "cell_type": "code",
   "execution_count": 45,
   "metadata": {},
   "outputs": [],
   "source": [
    "class student:\n",
    "    \n",
    "    def __init__(self,name,rollno,joiningdate,current_topic):\n",
    "        self.name =name\n",
    "        self.rollno= rollno\n",
    "        self.joiningdate= joiningdate\n",
    "        self.current_topic=current_topic\n",
    "        \n",
    "    def crt_topic(self):\n",
    "        print('current topic disussed in my class is', self.current_topic)\n",
    "        \n",
    "    def str_rollno(self):\n",
    "        try:\n",
    "            if self.rollno == str:\n",
    "                print('do nothing')\n",
    "            else:\n",
    "                return str(self.rollno)\n",
    "        except Exception as e:\n",
    "            print('this is my error message',e)\n",
    "    \n",
    "    def duration(self,current_date):\n",
    "        print('duration of student in my class is ', current_date-self.joiningdate)\n",
    "    \n",
    "    def __str__(self):\n",
    "        return 'this is student class where they can try to input there own data and they can try to fetch it'"
   ]
  },
  {
   "cell_type": "code",
   "execution_count": 46,
   "metadata": {},
   "outputs": [],
   "source": [
    "srini = student('srini',21163,2021,'oops')"
   ]
  },
  {
   "cell_type": "code",
   "execution_count": 47,
   "metadata": {},
   "outputs": [
    {
     "name": "stdout",
     "output_type": "stream",
     "text": [
      "duration of student in my class is  0\n"
     ]
    }
   ],
   "source": [
    "srini.duration(2021)"
   ]
  },
  {
   "cell_type": "code",
   "execution_count": 48,
   "metadata": {},
   "outputs": [
    {
     "data": {
      "text/plain": [
       "'21163'"
      ]
     },
     "execution_count": 48,
     "metadata": {},
     "output_type": "execute_result"
    }
   ],
   "source": [
    "srini.str_rollno()"
   ]
  },
  {
   "cell_type": "code",
   "execution_count": 41,
   "metadata": {},
   "outputs": [
    {
     "name": "stdout",
     "output_type": "stream",
     "text": [
      "this is student class where they can try to input there own data and they can try to fetch it\n"
     ]
    }
   ],
   "source": [
    "print(srini)"
   ]
  },
  {
   "cell_type": "code",
   "execution_count": 44,
   "metadata": {},
   "outputs": [],
   "source": [
    "mayur = student('mayur',343,2020,'python')"
   ]
  },
  {
   "cell_type": "code",
   "execution_count": 50,
   "metadata": {},
   "outputs": [],
   "source": [
    "class student:\n",
    "    \n",
    "    def __init__(self,name,rollno,joiningdate,current_topic):\n",
    "        self.name =name\n",
    "        self.rollno= rollno\n",
    "        self.joiningdate= joiningdate\n",
    "        self.current_topic=current_topic\n",
    "    \n",
    "    def name_parsing(self):\n",
    "        if type(self.name) == list:\n",
    "            for i in self.name:\n",
    "                print('name of the student is ', i)\n",
    "        else:\n",
    "            print('provided name is not in the form of a list')\n",
    "        \n",
    "    def crt_topic(self):\n",
    "        print('current topic disussed in my class is', self.current_topic)\n",
    "        \n",
    "    def str_rollno(self):\n",
    "        try:\n",
    "            if self.rollno == str:\n",
    "                print('do nothing')\n",
    "            else:\n",
    "                return str(self.rollno)\n",
    "        except Exception as e:\n",
    "            print('this is my error message',e)\n",
    "    \n",
    "    def duration(self,current_date):\n",
    "        print('duration of student in my class is ', current_date-self.joiningdate)\n",
    "    \n",
    "    def __str__(self):\n",
    "        return 'this is student class where they can try to input there own data and they can try to fetch it'"
   ]
  },
  {
   "cell_type": "code",
   "execution_count": 51,
   "metadata": {},
   "outputs": [],
   "source": [
    "pawan = student(['naveen','jay','himanshu'],[21,45,3,2],2021,'oops')"
   ]
  },
  {
   "cell_type": "code",
   "execution_count": 52,
   "metadata": {},
   "outputs": [
    {
     "name": "stdout",
     "output_type": "stream",
     "text": [
      "name of the student is  naveen\n",
      "name of the student is  jay\n",
      "name of the student is  himanshu\n"
     ]
    }
   ],
   "source": [
    "pawan.name_parsing()"
   ]
  },
  {
   "cell_type": "raw",
   "metadata": {},
   "source": [
    "create a class known as data, create class variables as filename, filetype,date,size\n",
    "you can provide data for class variables as list, tuples\n",
    "create function named file_open() that creates a file if it don't exist, open it and write something in the file\n",
    "create function named file_read() that reads a file and reads it\n",
    "create function named file_append() that appends a file and show it as output\n",
    "\n",
    "level2:\n",
    "Implement exception handling, logging option using logger function"
   ]
  },
  {
   "cell_type": "code",
   "execution_count": 86,
   "metadata": {},
   "outputs": [],
   "source": [
    "class data:\n",
    "    def __init__(self, filename,filetype,date,size):\n",
    "        self.filename =filename\n",
    "        self.filetype =filetype\n",
    "        self.date =date\n",
    "        self.size =size\n",
    "    \n",
    "    def file_open(self):\n",
    "        f =open(self.filename,'w+')\n",
    "        f.write('just getting started')\n",
    "        f.close()\n",
    "    \n",
    "    def file_read(self):\n",
    "        f = open(self.filename,'r')\n",
    "        f.seek(0)\n",
    "        print(f.read())\n",
    "        f.close()\n",
    "    \n",
    "    def file_append(self):\n",
    "        f =open(self.filename,'a')\n",
    "        f.write('add something at the end')\n",
    "        f.seek(0)\n",
    "        f.close()"
   ]
  },
  {
   "cell_type": "code",
   "execution_count": 87,
   "metadata": {},
   "outputs": [],
   "source": [
    "file1 = data('something','txt','2021','2kb')"
   ]
  },
  {
   "cell_type": "code",
   "execution_count": 88,
   "metadata": {},
   "outputs": [],
   "source": [
    "file1.file_open()"
   ]
  },
  {
   "cell_type": "code",
   "execution_count": 89,
   "metadata": {},
   "outputs": [
    {
     "name": "stdout",
     "output_type": "stream",
     "text": [
      "just getting started\n"
     ]
    }
   ],
   "source": [
    "file1.file_read()"
   ]
  },
  {
   "cell_type": "code",
   "execution_count": 90,
   "metadata": {},
   "outputs": [],
   "source": [
    "file1.file_append()"
   ]
  },
  {
   "cell_type": "code",
   "execution_count": null,
   "metadata": {},
   "outputs": [],
   "source": []
  }
 ],
 "metadata": {
  "kernelspec": {
   "display_name": "Python 3",
   "language": "python",
   "name": "python3"
  },
  "language_info": {
   "codemirror_mode": {
    "name": "ipython",
    "version": 3
   },
   "file_extension": ".py",
   "mimetype": "text/x-python",
   "name": "python",
   "nbconvert_exporter": "python",
   "pygments_lexer": "ipython3",
   "version": "3.8.5"
  }
 },
 "nbformat": 4,
 "nbformat_minor": 4
}
